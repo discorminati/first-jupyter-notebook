{
 "cells": [
  {
   "cell_type": "markdown",
   "id": "705670c3-f3b0-42a7-ade9-38725ec323f4",
   "metadata": {},
   "source": [
    "# Data Science Tools and Ecosystem"
   ]
  },
  {
   "cell_type": "markdown",
   "id": "6396ba9b-d9fd-48e4-a976-8d311074530d",
   "metadata": {},
   "source": [
    "In this notebook, Data Science Tools and Ecosystem are summarized."
   ]
  },
  {
   "cell_type": "markdown",
   "id": "7a8ed831-77a5-4a11-bc0a-f720f5ffb7c6",
   "metadata": {},
   "source": [
    "**Objectives:**\n",
    "- Name popular languages used by Data Scientists\n",
    "- Name some open source Data Science Tools\n",
    "- Express simple arithmetic equations"
   ]
  },
  {
   "cell_type": "markdown",
   "id": "fa611f3b-a05a-4bd3-9929-854f4b7bb0ae",
   "metadata": {},
   "source": [
    "Some of the popular languages that Data Scientists use are:\n",
    "1. R\n",
    "2. Python\n",
    "3. SQL"
   ]
  },
  {
   "cell_type": "markdown",
   "id": "afd80a3d-e00c-4a92-8607-9d4c4b99906d",
   "metadata": {},
   "source": [
    "Some of the commonly used libraries used by Data Scientists include:\n",
    "1. NumPy\n",
    "2. Pandas\n",
    "3. Matplotlib"
   ]
  },
  {
   "cell_type": "markdown",
   "id": "f0fd1dfe-852d-491b-8438-f10348a06b08",
   "metadata": {},
   "source": [
    "| Data Science Tools|  \n",
    "|-------------------|\n",
    "|JupyterLab| \n",
    "|Anaconda|\n",
    "|VS Code|"
   ]
  },
  {
   "cell_type": "markdown",
   "id": "8b361af2-743d-4be4-81c9-ac2284453782",
   "metadata": {},
   "source": [
    "### Below are a few examples of evaluating arithmetic expressions in Python"
   ]
  },
  {
   "cell_type": "code",
   "execution_count": 1,
   "id": "4b46afdc-b96b-4a11-99cb-2382eb532d64",
   "metadata": {},
   "outputs": [
    {
     "data": {
      "text/plain": [
       "17"
      ]
     },
     "execution_count": 1,
     "metadata": {},
     "output_type": "execute_result"
    }
   ],
   "source": [
    "# This is a simple arithmetic expression to multiply then add integers\n",
    "(3 * 4) + 5"
   ]
  },
  {
   "cell_type": "code",
   "execution_count": 3,
   "id": "94a02b9d-aa57-4fc3-bc89-acbac5d4665b",
   "metadata": {},
   "outputs": [
    {
     "data": {
      "text/plain": [
       "3.3333333333333335"
      ]
     },
     "execution_count": 3,
     "metadata": {},
     "output_type": "execute_result"
    }
   ],
   "source": [
    "#This will convert 200 minutes to hours by dividing by 60\n",
    "200 / 60"
   ]
  },
  {
   "cell_type": "markdown",
   "id": "9c99457e-7337-4297-b352-ca59b5d7fcaf",
   "metadata": {},
   "source": [
    "## Author\n",
    "Thomas Feng"
   ]
  },
  {
   "cell_type": "code",
   "execution_count": null,
   "id": "13dc6c94-193f-4d6c-8f09-0dd10b3add7f",
   "metadata": {},
   "outputs": [],
   "source": []
  }
 ],
 "metadata": {
  "kernelspec": {
   "display_name": "Python 3 (ipykernel)",
   "language": "python",
   "name": "python3"
  },
  "language_info": {
   "codemirror_mode": {
    "name": "ipython",
    "version": 3
   },
   "file_extension": ".py",
   "mimetype": "text/x-python",
   "name": "python",
   "nbconvert_exporter": "python",
   "pygments_lexer": "ipython3",
   "version": "3.12.7"
  }
 },
 "nbformat": 4,
 "nbformat_minor": 5
}
